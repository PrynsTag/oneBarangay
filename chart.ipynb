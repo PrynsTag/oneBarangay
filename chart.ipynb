{
 "cells": [
  {
   "cell_type": "markdown",
   "metadata": {
    "heading_collapsed": true
   },
   "source": [
    "### Initial Setup"
   ]
  },
  {
   "cell_type": "code",
   "execution_count": 2,
   "metadata": {
    "ExecuteTime": {
     "end_time": "2021-09-30T13:57:51.030625Z",
     "start_time": "2021-09-30T13:57:49.627971Z"
    },
    "hidden": true
   },
   "outputs": [],
   "source": [
    "import json\n",
    "\n",
    "import pandas as pd"
   ]
  },
  {
   "cell_type": "code",
   "execution_count": 3,
   "metadata": {
    "ExecuteTime": {
     "end_time": "2021-09-30T13:57:51.035638Z",
     "start_time": "2021-09-30T13:57:51.032163Z"
    },
    "hidden": true
   },
   "outputs": [],
   "source": [
    "with open(\"data1.json\") as json_file:\n",
    "    data = json.load(json_file)"
   ]
  },
  {
   "cell_type": "code",
   "execution_count": 4,
   "metadata": {
    "ExecuteTime": {
     "end_time": "2021-09-30T13:57:51.177015Z",
     "start_time": "2021-09-30T13:57:51.038805Z"
    },
    "hidden": true,
    "scrolled": true
   },
   "outputs": [],
   "source": [
    "df = pd.DataFrame(data[\"rows\"])"
   ]
  },
  {
   "cell_type": "markdown",
   "metadata": {
    "heading_collapsed": true
   },
   "source": [
    "### Convert Dates to Datetime"
   ]
  },
  {
   "cell_type": "code",
   "execution_count": 5,
   "metadata": {
    "ExecuteTime": {
     "end_time": "2021-09-30T13:57:51.273007Z",
     "start_time": "2021-09-30T13:57:51.178828Z"
    },
    "hidden": true,
    "scrolled": true
   },
   "outputs": [],
   "source": [
    "df[\"created_at\"] = pd.to_datetime(df[\"created_at\"], utc=True)\n",
    "df[\"birth_date\"] = pd.to_datetime(df[\"birth_date\"], errors=\"coerce\", format=\"%B %d, %Y\")\n",
    "df[\"date_accomplished\"] = pd.to_datetime(df[\"date_accomplished\"], errors=\"coerce\", format=\"%Y-%m-%d\")"
   ]
  },
  {
   "cell_type": "markdown",
   "metadata": {
    "heading_collapsed": true
   },
   "source": [
    "### Convert Monthly Income to Int"
   ]
  },
  {
   "cell_type": "code",
   "execution_count": 6,
   "metadata": {
    "ExecuteTime": {
     "end_time": "2021-09-30T13:57:51.366408Z",
     "start_time": "2021-09-30T13:57:51.274483Z"
    },
    "hidden": true
   },
   "outputs": [],
   "source": [
    "df[\"monthly_income\"] = df[\"monthly_income\"].str.replace(\",\", \"\", regex=False).str.replace(\" \", \"\", regex=False).str.replace(\".\", \"\", regex=False)\n",
    "df[\"monthly_income\"].fillna(0, inplace=True)\n",
    "df[\"monthly_income\"] = df[\"monthly_income\"].astype(\"int\")"
   ]
  },
  {
   "cell_type": "code",
   "execution_count": 7,
   "metadata": {
    "ExecuteTime": {
     "end_time": "2021-09-30T13:57:51.453982Z",
     "start_time": "2021-09-30T13:57:51.368407Z"
    },
    "hidden": true
   },
   "outputs": [
    {
     "data": {
      "text/plain": [
       "0    362307\n",
       "1    407901\n",
       "2    474552\n",
       "Name: monthly_income, dtype: int64"
      ]
     },
     "execution_count": 7,
     "metadata": {},
     "output_type": "execute_result"
    }
   ],
   "source": [
    "df[\"monthly_income\"].head(3)"
   ]
  },
  {
   "cell_type": "markdown",
   "metadata": {
    "heading_collapsed": true
   },
   "source": [
    "### Create Age Groups Given Age"
   ]
  },
  {
   "cell_type": "markdown",
   "metadata": {
    "hidden": true
   },
   "source": [
    "#### Calculate Age From Birth Date"
   ]
  },
  {
   "cell_type": "code",
   "execution_count": 8,
   "metadata": {
    "ExecuteTime": {
     "end_time": "2021-09-30T13:57:51.523580Z",
     "start_time": "2021-09-30T13:57:51.455510Z"
    },
    "hidden": true
   },
   "outputs": [],
   "source": [
    "now = pd.Timestamp.now()\n",
    "df[\"age\"] = (now - df[\"birth_date\"]).astype(\"<m8[Y]\")\n",
    "df[\"age\"] = df[\"age\"].astype('Int64')"
   ]
  },
  {
   "cell_type": "code",
   "execution_count": 9,
   "metadata": {
    "ExecuteTime": {
     "end_time": "2021-09-30T13:57:51.585749Z",
     "start_time": "2021-09-30T13:57:51.527146Z"
    },
    "hidden": true
   },
   "outputs": [
    {
     "data": {
      "text/plain": [
       "0    45\n",
       "1    21\n",
       "2    43\n",
       "Name: age, dtype: Int64"
      ]
     },
     "execution_count": 9,
     "metadata": {},
     "output_type": "execute_result"
    }
   ],
   "source": [
    "df[\"age\"].head(3)"
   ]
  },
  {
   "cell_type": "markdown",
   "metadata": {
    "hidden": true
   },
   "source": [
    "#### Calculate Age Groups"
   ]
  },
  {
   "cell_type": "code",
   "execution_count": 10,
   "metadata": {
    "ExecuteTime": {
     "end_time": "2021-09-30T13:57:51.651992Z",
     "start_time": "2021-09-30T13:57:51.588224Z"
    },
    "hidden": true,
    "hide_input": false
   },
   "outputs": [
    {
     "name": "stdout",
     "output_type": "stream",
     "text": [
      "Adult      36\n",
      "Teen       11\n",
      "Infant      6\n",
      "Kid         5\n",
      "Toddler     2\n",
      "Name: age_group, dtype: int64\n",
      "['Adult', 'Teen', 'Infant', 'Kid', 'Toddler']\n"
     ]
    }
   ],
   "source": [
    "bins= [0,2,4,13,20,110]\n",
    "labels = ['Infant','Toddler','Kid','Teen','Adult']\n",
    "df[\"age_group\"] = pd.cut(df[\"age\"], bins=bins, labels=labels, right=False)\n",
    "\n",
    "age_group_labels = df[\"age_group\"].value_counts().index.values.tolist()\n",
    "age_group_values = df[\"age_group\"].value_counts().values\n",
    "print(df[\"age_group\"].value_counts())\n",
    "print(age_group_labels)"
   ]
  },
  {
   "cell_type": "markdown",
   "metadata": {},
   "source": [
    "### Number of Citizenship per Category"
   ]
  },
  {
   "cell_type": "code",
   "execution_count": 11,
   "metadata": {
    "ExecuteTime": {
     "end_time": "2021-09-30T13:57:51.789268Z",
     "start_time": "2021-09-30T13:57:51.653904Z"
    }
   },
   "outputs": [
    {
     "name": "stdout",
     "output_type": "stream",
     "text": [
      "citizenship\n",
      "Filipino     29\n",
      "Foreigner    31\n",
      "dtype: int64\n"
     ]
    }
   ],
   "source": [
    "citizenship_labels = df.groupby(\"citizenship\").size().index.values\n",
    "citizenship_values = df.groupby(\"citizenship\").size().values\n",
    "print(df.groupby(\"citizenship\").size())"
   ]
  },
  {
   "cell_type": "markdown",
   "metadata": {
    "heading_collapsed": true
   },
   "source": [
    "### Number of Civil Status per Category"
   ]
  },
  {
   "cell_type": "code",
   "execution_count": 12,
   "metadata": {
    "ExecuteTime": {
     "end_time": "2021-09-30T13:57:51.869242Z",
     "start_time": "2021-09-30T13:57:51.790943Z"
    },
    "hidden": true
   },
   "outputs": [
    {
     "name": "stdout",
     "output_type": "stream",
     "text": [
      "civil_status\n",
      "Divorced     13\n",
      "Married      10\n",
      "Separated    13\n",
      "Single       11\n",
      "Widowed      13\n",
      "dtype: int64\n"
     ]
    }
   ],
   "source": [
    "civil_status_labels = df.groupby(\"civil_status\").size().index.values\n",
    "civil_status_values = df.groupby(\"civil_status\").size().values\n",
    "print(df.groupby(\"civil_status\").size())"
   ]
  },
  {
   "cell_type": "markdown",
   "metadata": {
    "heading_collapsed": true
   },
   "source": [
    "### Number of Members in Family"
   ]
  },
  {
   "cell_type": "code",
   "execution_count": 13,
   "metadata": {
    "ExecuteTime": {
     "end_time": "2021-09-30T13:57:51.949970Z",
     "start_time": "2021-09-30T13:57:51.871813Z"
    },
    "hidden": true
   },
   "outputs": [
    {
     "name": "stdout",
     "output_type": "stream",
     "text": [
      "541253    9\n",
      "779223    8\n",
      "808607    8\n",
      "848962    7\n",
      "901399    7\n",
      "100273    6\n",
      "867936    5\n",
      "222218    4\n",
      "316853    3\n",
      "575499    1\n",
      "587108    1\n",
      "557162    1\n",
      "Name: house_num, dtype: int64\n"
     ]
    }
   ],
   "source": [
    "house_num_labels = df[\"house_num\"].value_counts().index.values\n",
    "house_num_values = df[\"house_num\"].value_counts().values\n",
    "print(df[\"house_num\"].value_counts())"
   ]
  },
  {
   "cell_type": "markdown",
   "metadata": {
    "heading_collapsed": true
   },
   "source": [
    "### Average Family Members in A house"
   ]
  },
  {
   "cell_type": "code",
   "execution_count": 14,
   "metadata": {
    "ExecuteTime": {
     "end_time": "2021-09-30T13:57:52.047396Z",
     "start_time": "2021-09-30T13:57:51.952379Z"
    },
    "hidden": true,
    "hide_input": false
   },
   "outputs": [],
   "source": [
    "house_members_avg = df[\"house_num\"].value_counts().mean().astype(int)"
   ]
  },
  {
   "cell_type": "markdown",
   "metadata": {
    "heading_collapsed": true
   },
   "source": [
    "### Number of Social Classes per Person"
   ]
  },
  {
   "cell_type": "code",
   "execution_count": 15,
   "metadata": {
    "ExecuteTime": {
     "end_time": "2021-09-30T13:57:52.136170Z",
     "start_time": "2021-09-30T13:57:52.049346Z"
    },
    "hidden": true,
    "hide_input": false
   },
   "outputs": [
    {
     "name": "stdout",
     "output_type": "stream",
     "text": [
      "Rich                    28\n",
      "Not Applicable          22\n",
      "Upper Middle Income      4\n",
      "Lower Middle Income      2\n",
      "Upper Income             2\n",
      "Poor                     1\n",
      "Middle Middle Income     1\n",
      "Low Income               0\n",
      "Name: social_class, dtype: int64\n"
     ]
    }
   ],
   "source": [
    "bins = [0, 7890, 15780, 31560, 78900, 118350, 157800, 200000, 500000]\n",
    "labels = [\"Not Applicable\",\"Poor\", \"Low Income\", \"Lower Middle Income\", \"Middle Middle Income\", \"Upper Middle Income\", \"Upper Income\", \"Rich\"]\n",
    "df[\"social_class\"] = pd.cut(df[\"monthly_income\"], bins=bins, labels=labels, right=False)\n",
    "\n",
    "social_class_labels = df[\"social_class\"].value_counts().index.categories.values\n",
    "social_class_values = df[\"social_class\"].value_counts().values\n",
    "print(df[\"social_class\"].value_counts())"
   ]
  },
  {
   "cell_type": "markdown",
   "metadata": {},
   "source": [
    "### Number of RBI in Database"
   ]
  },
  {
   "cell_type": "code",
   "execution_count": 24,
   "metadata": {
    "ExecuteTime": {
     "end_time": "2021-09-30T13:58:43.661807Z",
     "start_time": "2021-09-30T13:58:43.654637Z"
    },
    "hide_input": false
   },
   "outputs": [
    {
     "data": {
      "text/plain": [
       "12"
      ]
     },
     "execution_count": 24,
     "metadata": {},
     "output_type": "execute_result"
    }
   ],
   "source": [
    "len(df.groupby(\"house_num\").sum().index.values.tolist())"
   ]
  },
  {
   "cell_type": "markdown",
   "metadata": {
    "heading_collapsed": true
   },
   "source": [
    "### Average Salary per Person"
   ]
  },
  {
   "cell_type": "code",
   "execution_count": null,
   "metadata": {
    "ExecuteTime": {
     "end_time": "2021-09-30T13:57:52.406170Z",
     "start_time": "2021-09-30T13:57:49.659Z"
    },
    "hidden": true,
    "hide_input": true
   },
   "outputs": [],
   "source": [
    "person_avg_salary = df[df[\"monthly_income\"] != 0][\"monthly_income\"].mean().astype(\"int\")"
   ]
  },
  {
   "cell_type": "markdown",
   "metadata": {},
   "source": [
    "### Average Salary per Household"
   ]
  },
  {
   "cell_type": "code",
   "execution_count": null,
   "metadata": {
    "ExecuteTime": {
     "end_time": "2021-09-30T13:57:52.407705Z",
     "start_time": "2021-09-30T13:57:49.661Z"
    },
    "hide_input": true
   },
   "outputs": [],
   "source": [
    "household = df.groupby([\"house_num\"])[\"monthly_income\"].sum()\n",
    "household_avg_salary = household.values.mean().astype(\"int\")"
   ]
  },
  {
   "cell_type": "code",
   "execution_count": null,
   "metadata": {
    "ExecuteTime": {
     "end_time": "2021-09-30T13:57:52.409000Z",
     "start_time": "2021-09-30T13:57:49.667Z"
    },
    "scrolled": false
   },
   "outputs": [],
   "source": [
    "df"
   ]
  }
 ],
 "metadata": {
  "kernelspec": {
   "display_name": "Python 3",
   "language": "python",
   "name": "python3"
  },
  "language_info": {
   "codemirror_mode": {
    "name": "ipython",
    "version": 3
   },
   "file_extension": ".py",
   "mimetype": "text/x-python",
   "name": "python",
   "nbconvert_exporter": "python",
   "pygments_lexer": "ipython3",
   "version": "3.8.10"
  },
  "toc": {
   "base_numbering": 1,
   "nav_menu": {},
   "number_sections": true,
   "sideBar": true,
   "skip_h1_title": false,
   "title_cell": "Table of Contents",
   "title_sidebar": "Contents",
   "toc_cell": false,
   "toc_position": {},
   "toc_section_display": true,
   "toc_window_display": false
  }
 },
 "nbformat": 4,
 "nbformat_minor": 1
}
